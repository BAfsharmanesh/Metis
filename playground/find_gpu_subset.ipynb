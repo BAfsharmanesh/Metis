{
 "cells": [
  {
   "cell_type": "markdown",
   "metadata": {},
   "source": [
    "# Brute-force exhaustive search"
   ]
  },
  {
   "cell_type": "code",
   "execution_count": 14,
   "metadata": {},
   "outputs": [],
   "source": [
    "from itertools import combinations\n",
    "from collections import Counter\n",
    "\n",
    "def find_unique(list):\n",
    "    unique_list = []\n",
    "    for x in list:\n",
    "        if x not in unique_list:\n",
    "            unique_list.append(x)\n",
    "    return unique_list \n",
    "    \n",
    "def find_gpu_subsets(gpu_list, target_memory):\n",
    "    upper_factor = 2\n",
    "    def is_power_of_two(x):\n",
    "        return x > 0 and (x & (x - 1)) == 0\n",
    " \n",
    "\n",
    "    def get_subsets(gpu_list):\n",
    "        subsets = []\n",
    "        for r in range(1, len(gpu_list) + 1):\n",
    "            for combination in combinations(gpu_list, r):\n",
    "                subsets.append(combination)\n",
    "        return subsets\n",
    "    \n",
    "\n",
    "    # Expand GPU list to represent all possible allocations\n",
    "    expanded_list = []\n",
    "    idx_2_node = {}\n",
    "    for node_i, (count, memory) in enumerate(gpu_list):\n",
    "        for i in range(count):\n",
    "            idx_2_node[len(expanded_list) + i] = node_i\n",
    "        expanded_list.extend([memory] * count)\n",
    "        \n",
    "    expanded_list_idx = list(range(len(expanded_list)))\n",
    "    \n",
    "    subsets = get_subsets(expanded_list_idx)\n",
    "    valid_subsets = []\n",
    "\n",
    "    for subset_idx in subsets:\n",
    "        subset = [expanded_list[i] for i in subset_idx]\n",
    "        total_memory = sum(subset)\n",
    "        if total_memory >= target_memory and is_power_of_two(len(subset)) and total_memory < upper_factor*target_memory:\n",
    "            valid_subsets.append(dict(Counter([idx_2_node[i] for i in subset_idx])))\n",
    "    \n",
    "    return find_unique(valid_subsets)\n",
    "\n",
    "# Example usage\n",
    "# gpu_list = [(8, 48), (8, 48), (8, 48)]  # 8*GPU1 with 48Gb memory, 8*GPU2 with 48Gb memory, 8*GPU3 with 48Gb memory\n",
    "# target_memory = 750  # Replace with your desired M value\n",
    "# result = find_gpu_subsets(gpu_list, target_memory)\n",
    "# print(\"Valid subsets:\", result)\n"
   ]
  },
  {
   "cell_type": "markdown",
   "metadata": {},
   "source": [
    "# DP exhaustive search"
   ]
  },
  {
   "cell_type": "code",
   "execution_count": null,
   "metadata": {},
   "outputs": [
    {
     "name": "stdout",
     "output_type": "stream",
     "text": [
      "Valid subsets: [{0: 4, 1: 8, 2: 20}, {0: 5, 1: 7, 2: 20}, {0: 5, 1: 8, 2: 19}, {0: 6, 1: 6, 2: 20}, {0: 6, 1: 7, 2: 19}, {0: 6, 1: 8, 2: 18}, {0: 7, 1: 5, 2: 20}, {0: 7, 1: 6, 2: 19}, {0: 7, 1: 7, 2: 18}, {0: 7, 1: 8, 2: 17}, {0: 8, 1: 4, 2: 20}, {0: 8, 1: 5, 2: 19}, {0: 8, 1: 6, 2: 18}, {0: 8, 1: 7, 2: 17}, {0: 8, 1: 8}, {0: 8, 1: 8, 2: 16}]\n"
     ]
    }
   ],
   "source": [
    "from math import log2\n",
    "from typing import List, Dict, Any, Tuple\n",
    "from itertools import combinations\n",
    "from collections import Counter\n",
    "\n",
    "def find_unique(list):\n",
    "    unique_list = []\n",
    "    for x in list:\n",
    "        if x not in unique_list:\n",
    "            unique_list.append(x)\n",
    "    return unique_list \n",
    "\n",
    "def find_gpu_subsets_optimized(gpu_list: List[Tuple], target_memory: int) -> List[Dict[int, int]]:\n",
    "    \"\"\"_summary_\n",
    "\n",
    "    Args:\n",
    "        gpu_list (List[Tuple]): a list of tuples, each tuple contains the number of GPUs and the memory of each node\n",
    "                                e.g. [node1, node2, ...] = [(# of GPU1, memory of GPU1), (# of GPU2, memory of GPU2), ...]\n",
    "        target_memory (int): memory needed for the task\n",
    "\n",
    "    Returns:\n",
    "        List[Dict[int, int]]: a list of dictionaries, each dictionary contains the number of GPUs for each node\n",
    "                                e.g. [{node1: # of GPU1, node2: # of GPU2, ...}, ...]\n",
    "    \"\"\"\n",
    "    \n",
    "    upper_factor = 1.5\n",
    "\n",
    "    def is_power_of_two(x):\n",
    "        return x > 0 and (x & (x - 1)) == 0\n",
    "\n",
    "    def generate_subsets():\n",
    "        subsets_tmp = []\n",
    "        for node_i, (count, memory) in enumerate(gpu_list):\n",
    "            subsets_tmp.append((node_i, count, memory))\n",
    "        return subsets_tmp\n",
    "\n",
    "    def backtrack(index, current_memory, current_count, subset):\n",
    "        if current_memory >= target_memory and is_power_of_two(current_count):\n",
    "            valid_subsets.append(dict(subset))\n",
    "            \n",
    "\n",
    "        if index == len(subsets) or current_memory >= target_memory * upper_factor:\n",
    "            return\n",
    "\n",
    "        node_i, count, memory = subsets[index]\n",
    "        for use_count in range(count + 1):\n",
    "            if current_memory + use_count * memory >= target_memory * upper_factor:\n",
    "                break\n",
    "\n",
    "            subset[node_i] = subset.get(node_i, 0) + use_count\n",
    "            backtrack(\n",
    "                index + 1,\n",
    "                current_memory + use_count * memory,\n",
    "                current_count + use_count,\n",
    "                subset,\n",
    "            )\n",
    "            if use_count > 0:\n",
    "                subset[node_i] -= use_count\n",
    "                if subset[node_i] == 0:\n",
    "                    del subset[node_i]\n",
    "\n",
    "    subsets = generate_subsets()\n",
    "    valid_subsets = []\n",
    "    backtrack(0, 0, 0, {})\n",
    "    \n",
    "    # iterate over all subsets, if number of gpu for a node is zero, remove it from the subset: {0: 0, 1: 8, 2: 8} -> {1: 8, 2: 8}\n",
    "    for subset in valid_subsets:\n",
    "        for node in list(subset.keys()):\n",
    "            if subset[node] == 0:\n",
    "                del subset[node]       \n",
    "    return find_unique(valid_subsets)\n",
    "\n",
    "\n",
    "# Example usage\n",
    "gpu_list = [(8, 48), (8, 48), (20, 16)]  # 8*GPU1 with 48Gb memory, 8*GPU2 with 48Gb memory, 8*GPU3 with 48Gb memory\n",
    "target_memory = 768  # Replace with your desired M value\n",
    "result2 = find_gpu_subsets_optimized(gpu_list, target_memory)\n",
    "print(\"Valid subsets:\", result2)"
   ]
  },
  {
   "cell_type": "code",
   "execution_count": 16,
   "metadata": {},
   "outputs": [],
   "source": [
    "def is_matched(res1, res2):\n",
    "    \n",
    "    if res1 == res2:\n",
    "        # print(\"Matched\")\n",
    "        return True\n",
    "    \n",
    "    for i in res2:\n",
    "        if i not in res1:\n",
    "            # print(f\"Not Matched {i} of res2\")\n",
    "            return False\n",
    "\n",
    "    for i in res1:\n",
    "        if i not in res2:\n",
    "            # print(f\"Not Matched {i} of res1\")\n",
    "            return False\n",
    "\n",
    "    if len(res1) != len(res2):\n",
    "        # print(\"Not Matched Length\")\n",
    "        return False\n",
    "    # print(\"Matched\")\n",
    "    return True"
   ]
  },
  {
   "cell_type": "code",
   "execution_count": null,
   "metadata": {},
   "outputs": [
    {
     "name": "stdout",
     "output_type": "stream",
     "text": [
      "Matched: 0/200\n"
     ]
    }
   ],
   "source": [
    "# random test cases for matching the results\n",
    "# generate random gpu_list with len(gpu_list) 1, 2, 3, 4\n",
    "# generate random target_memory\n",
    "# check if the results are matched\n",
    "import random\n",
    "\n",
    "sample_num = 200\n",
    "track_matched = 0\n",
    "for i in range(sample_num):\n",
    "    gpu_list = [(random.randint(1, 8), random.randint(1, 100)) for i in range(random.randint(1, 3))]\n",
    "    target_memory = random.randint(1, 1000)\n",
    "    res1 = find_gpu_subsets(gpu_list, target_memory)\n",
    "    res2 = find_gpu_subsets_optimized(gpu_list, target_memory)\n",
    "    matched = is_matched(res1, res2)\n",
    "    if matched:\n",
    "        track_matched += 1\n",
    "    if not matched:\n",
    "        print(f\"gpu_list: {gpu_list}, target_memory: {target_memory}, res1: {res1}, res2: {res2}\")\n",
    "    \n",
    "print(f\"Matched: {track_matched}/{sample_num}\")"
   ]
  },
  {
   "cell_type": "code",
   "execution_count": 21,
   "metadata": {},
   "outputs": [
    {
     "data": {
      "text/plain": [
       "(77,\n",
       " [{2: 1}, {0: 2}, {0: 1, 1: 1}, {0: 1, 2: 1}, {1: 1, 2: 1}, {1: 4}],\n",
       " [{2: 1}, {1: 1, 2: 1}, {1: 4}, {0: 1, 2: 1}, {0: 1, 1: 1}, {0: 2}])"
      ]
     },
     "execution_count": 21,
     "metadata": {},
     "output_type": "execute_result"
    }
   ],
   "source": [
    "gpu_list= [(5, 68), (5, 29), (3, 85)]\n",
    "target_memory= 77\n",
    "#, res1: [{2: 1}, {0: 2}, {0: 1, 1: 1}, {0: 1, 2: 1}, {1: 1, 2: 1}, {1: 4}], res2: [{2: 1}, {1: 1, 2: 1}, {1: 4}, {1: 4}, {0: 1, 2: 1}, {0: 1, 1: 1}, {0: 1, 1: 1}, {0: 2}, {0: 2}, {0: 2}]\n",
    "\n",
    "res1 = find_gpu_subsets(gpu_list, target_memory)\n",
    "res2 = find_gpu_subsets_optimized(gpu_list, target_memory)\n",
    "is_matched(res1, res2)\n",
    "(target_memory, res1, res2)"
   ]
  },
  {
   "cell_type": "code",
   "execution_count": null,
   "metadata": {},
   "outputs": [],
   "source": [
    "\n",
    "    "
   ]
  }
 ],
 "metadata": {
  "kernelspec": {
   "display_name": "metis",
   "language": "python",
   "name": "python3"
  },
  "language_info": {
   "codemirror_mode": {
    "name": "ipython",
    "version": 3
   },
   "file_extension": ".py",
   "mimetype": "text/x-python",
   "name": "python",
   "nbconvert_exporter": "python",
   "pygments_lexer": "ipython3",
   "version": "3.10.16"
  }
 },
 "nbformat": 4,
 "nbformat_minor": 2
}
